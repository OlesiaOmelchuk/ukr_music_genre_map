version https://git-lfs.github.com/spec/v1
oid sha256:69055afbc34e4ece7647d83f1b0123b725c45652fb1d21c44a18fffe2d0927c1
size 319888
