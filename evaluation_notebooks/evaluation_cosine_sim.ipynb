version https://git-lfs.github.com/spec/v1
oid sha256:44d40b7ab52214f82cfc16271e98788be7ef53655447db8dd1dc1377ad183051
size 1438450
