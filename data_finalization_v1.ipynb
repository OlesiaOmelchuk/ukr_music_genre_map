version https://git-lfs.github.com/spec/v1
oid sha256:bda012396f7ab3ad4e101d4df098649db58c99a44067cc7a940bdc251e54d988
size 344497
